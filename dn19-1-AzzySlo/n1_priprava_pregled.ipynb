{
 "cells": [
  {
   "cell_type": "markdown",
   "metadata": {
    "lang": "sl"
   },
   "source": [
    "### Podatkovno rudarjenje, 1. domača naloga, 15.3.2019\n",
    "\n",
    "# Priprava podatkov, osnovne statistike in vizualizacija"
   ]
  },
  {
   "cell_type": "markdown",
   "metadata": {
    "lang": "sl"
   },
   "source": [
    "Aljaž Debelak"
   ]
  },
  {
   "cell_type": "markdown",
   "metadata": {
    "lang": "sl"
   },
   "source": [
    "Neizogiben del vsakega projekta na področju podatkovnega rudarjenja je iskanje,\n",
    "urejanje in priprava podatkov. V tej nalogi boste spoznali primer podatkovne\n",
    "zbirke in uporabili postopke za pretvorbo podatkov v ustrezno obliko ter pregled in prikaz\n",
    "osnovnih statistik.\n",
    "\n",
    "### Oddaja\n",
    "Zapišite kodo in odgovore v spodnje celice. Tako pripravljen notebook shranite v vaš repozitorij za domače naloge na *github*. V učilnici oddajte le povezavo do notebooka v vašem repozitoriju, n.pr.: \n",
    "https://github.com/PR-ULFRI/dn19-1-vašeuporabniškoime/n1_priprava_pregled.ipynb.\n",
    "\n",
    "Za bolj podrobna navodila, glejte razdelek \"Domače naloge\" v [spletni učilnici predmeta](https://ucilnica.fri.uni-lj.si/course/view.php?id=37)."
   ]
  },
  {
   "cell_type": "markdown",
   "metadata": {
    "lang": "sl"
   },
   "source": [
    "## Podatki\n",
    "\n",
    "V nalogi boste pregledali in pripravili podatke gledanosti Hollywoodskih filmov\n",
    "zbirke [MovieLens](https://grouplens.org/datasets/movielens/) v obdobju **1995-2016**. Podatki so v mapi `/podatki/ml-latest-small`.\n",
    "\n",
    "Iste podatke boste uporabili v vseh domačih nalogah, zato jih dodobra spoznajte. Gre za podatkovno zbirko za\n",
    "vrednotenje priporočilnih sistemov, ki vsebuje gledalce ter njihove ocene za posamezni film na lestvici 1 do 5.  \n",
    "Poleg osnovne matrike uporabnikov in ocen vsebuje še dodatne podatke o filmih (npr. žanr, datum, oznake,\n",
    "igralci).\n",
    "\n",
    "Podatkovna zbirka vsebuje naslednje datoteke:\n",
    "\n",
    "* ratings.csv: podatki o uporabnikih in ocenah,\n",
    "* movies.csv: podatki o žanrih filmov,\n",
    "* cast.csv: podatki o igralcih,\n",
    "* tags.csv: podatki o oznakah (ang. \\emph{tags}),\n",
    "* links.csv: povezave na sorodne podatkovne zbirke.\n",
    "\n",
    "\n",
    "Pred pričetkom reševanja naloge si dobro oglejte podatke in datoteko **README.txt**. Podrobnosti o zbirki lahko preberete na [spletni strani](http://files.grouplens.org/datasets/movielens/ml-latest-small-README.html).\n",
    "\n",
    "Pripravite metode za nalaganje podatkov v ustrezne podatkovne strukture. Te vam bodo prišle\n",
    "prav tudi pri nadaljnjih nalogah.\n",
    "Bodite pozorni na velikost podatkov."
   ]
  },
  {
   "cell_type": "markdown",
   "metadata": {
    "lang": "sl"
   },
   "source": [
    "Zapišite kodo za branje datotek in pripravo ustreznih matrik (in drugih struktur) podatkov, ki jih boste uporabi pri odgovarjanju na spodnja vprašanja.\n",
    "\n",
    "Kodo lahko razdelite v več celic."
   ]
  },
  {
   "cell_type": "code",
   "execution_count": 1,
   "metadata": {},
   "outputs": [],
   "source": [
    "import numpy as np\n",
    "import operator\n",
    "import matplotlib\n",
    "import matplotlib.pyplot as plt\n",
    "from datetime import datetime\n",
    "\n",
    "\n",
    "movies_id = []\n",
    "movies_title = {}\n",
    "movies_genres = {}\n",
    "movies_ratings = {}\n",
    "movieId_time = {}\n",
    "movies_cast = {}\n",
    "\n",
    "with open('podatki/ml-latest-small/movies.csv',encoding=\"utf8\") as file:\n",
    "    file.readline()\n",
    "    for line in file:\n",
    "        genres = []\n",
    "        if line.split(',')[-1] != \"\":\n",
    "            genres = line.split(',')[-1].split(\"|\")\n",
    "            genres[-1] = genres[-1].replace(\"\\n\", \"\")\n",
    "        \n",
    "        movieId = int(line.split(',')[0])       \n",
    "        movies_id.append(movieId)\n",
    "        movies_title[movieId] = \"\".join(line.split(',')[1:-1]).replace('\"','')\n",
    "        movies_genres[movieId] = genres\n",
    "        movies_ratings[movieId] = []\n",
    "        movieId_time[movieId] = []\n",
    "\n",
    "with open('podatki/ml-latest-small/ratings.csv',encoding=\"utf8\") as file:\n",
    "    file.readline()\n",
    "    for line in file:\n",
    "        movies_ratings[int(line.split(',')[1])].append(float(line.split(',')[2]))\n",
    "        movieId_time[int(line.split(',')[1])].append([float(line.split(',')[2]),int(line.split(',')[3])])\n",
    "        \n",
    "with open('podatki/ml-latest-small/cast.csv',encoding=\"utf8\") as file:\n",
    "    file.readline()\n",
    "    for line in file:\n",
    "        movies_cast[int(line.split(',')[0])] = (line.split(',')[1].split('|'))\n",
    "             "
   ]
  },
  {
   "cell_type": "markdown",
   "metadata": {
    "lang": "sl"
   },
   "source": [
    "## Vprašanja\n",
    "\n",
    "Glavni namen podatkovnega rudarjenja je *odkrivanje znanj iz podatkov*,\n",
    "torej odgovarjanje na vprašanja z uporabo računskih postopkov.\n",
    "\n",
    "Z uporabo principov, ki ste jih spoznali na vajah in predavanjih, odgovorite na\n",
    "spodnja vprašanja. Pri vsakem vprašanju dobro premislite, na kakšen način boste\n",
    "najbolje podali, prikazali oz. utemeljili odgovor. Bistven del so odgovori na\n",
    "vprašanja in ne implementacija vaše rešitve."
   ]
  },
  {
   "cell_type": "markdown",
   "metadata": {
    "lang": "sl"
   },
   "source": [
    "### 1. vprašanje (15%):\n",
    "Kateri filmi so v povprečju najbolje ocenjeni?  Pripravite seznam\n",
    "filmov ter njihovih povprečnih ocen in izpišite po 10 filmov z vrha seznama.\n",
    "Opazite pri takem ocenjevanju kakšno težavo? Kako bi jo lahko rešili? Kakšni so\n",
    "rezultati tedaj?\n",
    "\n",
    "Kodo lahko razdelite v več celic."
   ]
  },
  {
   "cell_type": "code",
   "execution_count": 2,
   "metadata": {},
   "outputs": [
    {
     "name": "stdout",
     "output_type": "stream",
     "text": [
      "Najbolših 10:\n",
      "\n",
      "Lamerica (1994) : 5.0\n",
      "Mute Witness (1994) : 5.0\n",
      "Picture Bride (Bijo photo) (1994) : 5.0\n",
      "Red Firecracker Green Firecracker (Pao Da Shuang Deng) (1994) : 5.0\n",
      "Paris France (1993) : 5.0\n",
      "Faces (1968) : 5.0\n",
      "Maya Lin: A Strong Clear Vision (1994) : 5.0\n",
      "Heavy (1995) : 5.0\n",
      "Death in the Garden (Mort en ce jardin La) (1956) : 5.0\n",
      "Day the Sun Turned Cold The (Tianguo niezi) (1994) : 5.0\n",
      "----------------------------------------------\n",
      "\n",
      "\n",
      "Najboljših 10, ki imajo vsaj 10 ocen:\n",
      "\n",
      "Best Years of Our Lives The (1946) : 4.636363636363637\n",
      "Inherit the Wind (1960) : 4.541666666666667\n",
      "Godfather The (1972) : 4.4875\n",
      "Shawshank Redemption The (1994) : 4.487138263665595\n",
      "Tom Jones (1963) : 4.458333333333333\n",
      "Gladiator (1992) : 4.454545454545454\n",
      "On the Waterfront (1954) : 4.448275862068965\n",
      "When We Were Kings (1996) : 4.4375\n",
      "All About Eve (1950) : 4.434210526315789\n",
      "Ran (1985) : 4.423076923076923\n"
     ]
    }
   ],
   "source": [
    "Avg_ratings = {}\n",
    "for movieId, ratings in movies_ratings.items():\n",
    "    if len(ratings) == 0:\n",
    "        continue\n",
    "    Avg_ratings[movieId] = mean = np.mean(ratings)\n",
    "\n",
    "sorted_ratings = sorted(Avg_ratings.items(), key=lambda kv: kv[1], reverse=True)\n",
    "\n",
    "print(\"Najbolših 10:\\n\")\n",
    "for i in range(10):\n",
    "    print(\"{} : {}\".format(movies_title[sorted_ratings[i][0]], sorted_ratings[i][1]))\n",
    "    \n",
    "\n",
    "\n",
    "\n",
    "#-------------------------------------------------------\n",
    "#Nekateri filmi nimajo dosti ocen\n",
    "#Popravimo lahko tako, da izpustimo filme, ki nimajo vsaj 10 ocen\n",
    "\n",
    "Avg_ratings = {}\n",
    "for movieId, ratings in movies_ratings.items():\n",
    "    if len(ratings) < 10:\n",
    "        continue\n",
    "    mean = np.mean(ratings)\n",
    "    Avg_ratings[movieId] = mean\n",
    "\n",
    "sorted_ratings = sorted(Avg_ratings.items(), key=lambda kv: kv[1], reverse=True)\n",
    "\n",
    "print(\"----------------------------------------------\\n\\n\\nNajboljših 10, ki imajo vsaj 10 ocen:\\n\")\n",
    "for i in range(10):\n",
    "    print(\"{} : {}\".format(movies_title[sorted_ratings[i][0]], sorted_ratings[i][1]))\n",
    "\n"
   ]
  },
  {
   "cell_type": "markdown",
   "metadata": {
    "lang": "sl"
   },
   "source": [
    "Odgovor: **zapišite odgovor**"
   ]
  },
  {
   "cell_type": "markdown",
   "metadata": {
    "lang": "sl"
   },
   "source": [
    "### 2. vprašanje (15%):\n",
    "Posamezni film pripada enemu ali več žanrom. \n",
    "Koliko je vseh žanrov? Prikaži porazdelitev žanrov z uporabo ustrezne\n",
    "vizualizacije.\n",
    "\n",
    "Kodo lahko razdelite v več celic."
   ]
  },
  {
   "cell_type": "code",
   "execution_count": 3,
   "metadata": {},
   "outputs": [
    {
     "name": "stdout",
     "output_type": "stream",
     "text": [
      "Vseh žanrov je 18, saj imax in 'no genres listed' nista žanra\n"
     ]
    }
   ],
   "source": [
    "numOfMovies = {}\n",
    "\n",
    "for genres in movies_genres.values():\n",
    "    for genre in genres:\n",
    "        if genre not in numOfMovies:\n",
    "            numOfMovies[genre] = 0\n",
    "        numOfMovies[genre] += 1\n",
    "        \n",
    "print(\"Vseh žanrov je \"+str(len(numOfMovies)-2)+\", saj imax in 'no genres listed' nista žanra\")"
   ]
  },
  {
   "cell_type": "markdown",
   "metadata": {
    "lang": "sl"
   },
   "source": [
    "Odgovor: Vseh žanrov je 18, saj imax in 'no genres listed' nista žanra"
   ]
  },
  {
   "cell_type": "code",
   "execution_count": 4,
   "metadata": {},
   "outputs": [
    {
     "data": {
      "image/png": "[encoded data removed]",
      "text/plain": [
       "<Figure size 2520x936 with 1 Axes>"
      ]
     },
     "metadata": {
      "needs_background": "light"
     },
     "output_type": "display_data"
    }
   ],
   "source": [
    "genres = list(numOfMovies.keys())\n",
    "numOfGanre = np.arange(len(genres))\n",
    "numOfEachMovieOfGenreType = list(numOfMovies.values())\n",
    "              \n",
    "plt.figure(figsize=(35,13))\n",
    "plt.bar(genres,numOfEachMovieOfGenreType)\n",
    "plt.xticks(numOfGanre,genres)\n",
    "plt.show()"
   ]
  },
  {
   "cell_type": "markdown",
   "metadata": {
    "lang": "sl"
   },
   "source": [
    "### 3. vprašanje (20%):\n",
    "Število ocen (ogledov) se za posamezni film razlikuje. Ali\n",
    "obstaja povezava med gledanostjo in povprečno oceno filma? Opišite postopek, ki\n",
    "ste ga uporabili pri odgovarjanju na vprašanje.\n",
    "\n",
    "Kodo lahko razdelite v več celic."
   ]
  },
  {
   "cell_type": "code",
   "execution_count": 5,
   "metadata": {},
   "outputs": [
    {
     "name": "stdout",
     "output_type": "stream",
     "text": [
      "\n"
     ]
    },
    {
     "data": {
      "text/plain": [
       "<Figure size 432x288 with 0 Axes>"
      ]
     },
     "metadata": {},
     "output_type": "display_data"
    },
    {
     "data": {
      "image/png": "[encoded data removed]",
      "text/plain": [
       "<Figure size 1440x144 with 1 Axes>"
      ]
     },
     "metadata": {
      "needs_background": "light"
     },
     "output_type": "display_data"
    }
   ],
   "source": [
    "movie_views = {}\n",
    "\n",
    "for movieId, ratings in movies_ratings.items():\n",
    "    if len(ratings) not in movie_views:\n",
    "        movie_views[len(ratings)] = []\n",
    "    movie_views[len(ratings)].append(movieId)\n",
    "\n",
    "sorted_movie_views = sorted(movie_views.items(), key=lambda kv: kv[0])\n",
    "\n",
    "print()\n",
    "\n",
    "Avg_ratings = {}\n",
    "for movieId, ratings in movies_ratings.items():\n",
    "    if len(ratings) == 0:\n",
    "        Avg_ratings[movieId] = 0\n",
    "    else:\n",
    "        Avg_ratings[movieId] = np.mean(ratings)\n",
    "\n",
    "avg_ratings = {}\n",
    "for ratingsNum, movieIds in sorted_movie_views:\n",
    "    avg_ratings_of_each_movie = []\n",
    "    for movieId in movieIds:\n",
    "        avg_ratings_of_each_movie.append(np.mean(Avg_ratings[movieId]))\n",
    "    avg_ratings[ratingsNum] = np.mean(avg_ratings_of_each_movie)\n",
    "del avg_ratings[0]\n",
    "\n",
    "plt.figure()\n",
    "plt.figure(figsize=(20,2))\n",
    "plt.plot([i for i in range(len(sorted_movie_views))][1:], avg_ratings.values(), '--')\n",
    "plt.xticks([i for i in range(len(sorted_movie_views))][1:],[ratingsNum for ratingsNum,movieIds in sorted_movie_views][1:])\n",
    "plt.show()"
   ]
  },
  {
   "cell_type": "markdown",
   "metadata": {
    "lang": "sl"
   },
   "source": [
    "Odgovor: Naredil sem tako, da sem filme, ki imajo enako število ogledov, spravil skupaj, nato sem naredil povprečje vseh filmov z enakim številom ogledov. Filmi brez ocen so bili izpuščeni.\n",
    "\n",
    "Na grafu se vidi da več ko ima ogledov boljša je ocena, so pa tudi posebneži."
   ]
  },
  {
   "cell_type": "markdown",
   "metadata": {
    "lang": "sl"
   },
   "source": [
    "### 4. vprašanje (30%):\n",
    "Vsaka ocena je bila vnešena na določen datum (stolpec\n",
    "*timestamp*).  Ali se popularnost posameznih filmov s časom spreminja?\n",
    "Problem reši tako, da za dani film ocene razporediš po času ter v vsaku časovni\n",
    "točki izračunaš povprečje za zadnjih 30, 50, ali 100 ocen. Nariši graf, kako se\n",
    "ocena spreminja in ga prikaži za dva zanimiva primera filmov.\n",
    "\n",
    "Kodo lahko razdelite v več celic."
   ]
  },
  {
   "cell_type": "code",
   "execution_count": 6,
   "metadata": {},
   "outputs": [
    {
     "data": {
      "text/plain": [
       "<Figure size 432x288 with 0 Axes>"
      ]
     },
     "metadata": {},
     "output_type": "display_data"
    },
    {
     "data": {
      "image/png": "[encoded data removed]",
      "text/plain": [
       "<Figure size 1440x144 with 1 Axes>"
      ]
     },
     "metadata": {
      "needs_background": "light"
     },
     "output_type": "display_data"
    }
   ],
   "source": [
    "for movieId, ratingsTimes in movieId_time.items():\n",
    "    movieId_time[movieId] = sorted(ratingsTimes, key= lambda x : x[1])\n",
    "\n",
    "box = {}\n",
    "for i,j in movieId_time.items():    \n",
    "    tmp=0\n",
    "    st=0\n",
    "    box[i] = []\n",
    "    while st < len(j):\n",
    "        box[i].append(j[st:st+50])\n",
    "        st+=50\n",
    "\n",
    "avgBox = {}\n",
    "for i,j in box.items(): \n",
    "    avgBox[i] = []\n",
    "    for k in j:\n",
    "        avgBox[i].append([k[0][1],round(np.mean([x for x,y in k]),2)])\n",
    "        \n",
    "plt.figure()\n",
    "plt.figure(figsize=(20,2))\n",
    "plt.plot([i for i in range(len(avgBox[1]))], [j for i,j in avgBox[1]], '--')\n",
    "plt.xticks([i for i in range(len(avgBox[1]))],[datetime.fromtimestamp(i).date() for i,j in avgBox[1]])\n",
    "plt.show()"
   ]
  },
  {
   "cell_type": "code",
   "execution_count": 7,
   "metadata": {},
   "outputs": [
    {
     "data": {
      "text/plain": [
       "<Figure size 432x288 with 0 Axes>"
      ]
     },
     "metadata": {},
     "output_type": "display_data"
    },
    {
     "data": {
      "image/png": "[encoded data removed]",
      "text/plain": [
       "<Figure size 1440x144 with 1 Axes>"
      ]
     },
     "metadata": {
      "needs_background": "light"
     },
     "output_type": "display_data"
    }
   ],
   "source": [
    "plt.figure()\n",
    "plt.figure(figsize=(20,2))\n",
    "plt.plot([i for i in range(len(avgBox[2]))], [j for i,j in avgBox[2]], '--')\n",
    "plt.xticks([i for i in range(len(avgBox[2]))],[datetime.fromtimestamp(i).date() for i,j in avgBox[2]])\n",
    "plt.show()"
   ]
  },
  {
   "cell_type": "markdown",
   "metadata": {
    "lang": "sl"
   },
   "source": [
    "Odgovor: Popularnost se zničuje. To vidimo na grafu kako so datumi zmeraj bolj narazen.\n",
    "\n",
    "Pri prvem filmu kaže kako popularnost pada, v drugem pa čeprav je vmes popularnost padla, zdaj ponovno raste."
   ]
  },
  {
   "cell_type": "markdown",
   "metadata": {
    "lang": "sl"
   },
   "source": [
    "### 5. vprašanje (20%):\n",
    "Kako bi ocenili popularnost posameznih igralcev? Opišite postopek\n",
    "ocenitve ter izpišite 10 najbolj popularnih igralcev.\n",
    "\n",
    "Kodo lahko razdelite v več celic."
   ]
  },
  {
   "cell_type": "code",
   "execution_count": 8,
   "metadata": {},
   "outputs": [
    {
     "name": "stdout",
     "output_type": "stream",
     "text": [
      "Najbolših 10:\n",
      "\n",
      "Michele Placido: 5.0\n",
      "Piro Milkani: 5.0\n",
      "Elida Janushi: 5.0\n",
      "Sefer Pema: 5.0\n",
      "Idajet Sejdia: 5.0\n",
      "Marieta Ljarja: 5.0\n",
      "Elina Ndreu: 5.0\n",
      "Ilir Ara: 5.0\n",
      "Liliana Subashi: 5.0\n",
      "Artan Marina: 5.0\n",
      "----------------------------------------------\n",
      "\n",
      "\n",
      "Najboljših 10, ki so nastopali v vsaj 10. filmih:\n",
      "\n",
      "Takashi Shimura: 4.124365465883323\n",
      "Alec Guinness: 4.035585543142023\n",
      "Charles Chaplin: 4.031285558150677\n",
      "George Sanders: 3.9847254004576653\n",
      "Michel Piccoli: 3.9715277777777778\n",
      "Buster Keaton: 3.964835164835165\n",
      "Derek Jacobi: 3.9502920224264098\n",
      "Cary Grant: 3.9360012382734064\n",
      "Domhnall Gleeson: 3.934604639782125\n",
      "Jacqueline Bisset: 3.9244444444444446\n"
     ]
    }
   ],
   "source": [
    "cast_movies = {}\n",
    "for movieId,casts in movies_cast.items():\n",
    "    for cast in casts:\n",
    "        if cast not in cast_movies:\n",
    "            cast_movies[cast]=[]\n",
    "        cast_movies[cast].append(movieId)\n",
    "\n",
    "Avg_ratings = {}\n",
    "for movieId, ratings in movies_ratings.items():\n",
    "    if len(ratings) == 0:\n",
    "        continue\n",
    "    Avg_ratings[movieId] = np.mean(ratings)\n",
    "    \n",
    "        \n",
    "cast_avg_movie_rating = {}\n",
    "for cast,movieIds in cast_movies.items():\n",
    "    avg_ratings_of_each_movie = []\n",
    "    for movieId in movieIds:\n",
    "        if movieId in Avg_ratings:\n",
    "            avg_ratings_of_each_movie.append(np.mean(Avg_ratings[movieId]))\n",
    "    if not avg_ratings_of_each_movie:\n",
    "        avg_ratings_of_each_movie = 0\n",
    "    cast_avg_movie_rating[cast] = np.mean(avg_ratings_of_each_movie)\n",
    "    \n",
    "sorted_cast_ratings = sorted(cast_avg_movie_rating.items(), key=lambda kv: kv[1], reverse=True)\n",
    "\n",
    "print(\"Najbolših 10:\\n\")\n",
    "for i in range(10):\n",
    "    print(\"{}: {}\".format(sorted_cast_ratings[i][0], sorted_cast_ratings[i][1]))\n",
    "    \n",
    "    \n",
    "#-----------------------------------------------------\n",
    "\n",
    "     \n",
    "cast_avg_movie_rating = {}\n",
    "for cast,movieIds in cast_movies.items():\n",
    "    avg_ratings_of_each_movie = []\n",
    "    if len(movieIds) < 10:\n",
    "        continue\n",
    "    for movieId in movieIds:\n",
    "        if movieId in Avg_ratings:\n",
    "            avg_ratings_of_each_movie.append(np.mean(Avg_ratings[movieId]))\n",
    "    if not avg_ratings_of_each_movie:\n",
    "        avg_ratings_of_each_movie = 0\n",
    "    cast_avg_movie_rating[cast] = np.mean(avg_ratings_of_each_movie)\n",
    "    \n",
    "sorted_cast_ratings = sorted(cast_avg_movie_rating.items(), key=lambda kv: kv[1], reverse=True)\n",
    "\n",
    "print(\"----------------------------------------------\\n\\n\\nNajboljših 10, ki so nastopali v vsaj 10. filmih:\\n\")\n",
    "for i in range(10):\n",
    "    print(\"{}: {}\".format(sorted_cast_ratings[i][0], sorted_cast_ratings[i][1]))"
   ]
  },
  {
   "cell_type": "markdown",
   "metadata": {
    "lang": "sl"
   },
   "source": [
    "Odgovor: Za izračun popularnosti sem najprej pogledal, v katerih filmih igralec nastopa, potem pa izračunal povprečje ocen vseh njegovih filmov.\n",
    "\n",
    "Ker je enak problem kot pri prvi nalogi, da je igralec igral v premalo filmih, sem določil mejo, da mora igralec nastopati vsaj v desetih filmih"
   ]
  },
  {
   "cell_type": "markdown",
   "metadata": {
    "lang": "sl"
   },
   "source": [
    "### bonus vprašanje (5%):\n",
    "\n",
    "Kateri je tvoj najljubši film? Zakaj?"
   ]
  },
  {
   "cell_type": "markdown",
   "metadata": {
    "lang": "sl"
   },
   "source": [
    "Odgovor: Najboljši film mi je Avenger (prvi del).\n",
    "Zelo rad imam akcijske in fantazijske filme, ter se nadaljujeje/povezujeje z ostalimi filmi. Kot da bi dobil en dolg film."
   ]
  },
  {
   "cell_type": "markdown",
   "metadata": {},
   "source": []
  },
  {
   "cell_type": "markdown",
   "metadata": {
    "lang": "sl"
   },
   "source": [
    "## Zapiski\n",
    "Za nalaganje podatkov lahko uporabite vgrajen modul `csv`. Mapa s podatki `ml-latest-small` se v tem primeru mora nahajati v isti mapi kot notebook."
   ]
  },
  {
   "cell_type": "code",
   "execution_count": 9,
   "metadata": {},
   "outputs": [],
   "source": [
    "from csv import DictReader\n",
    "\n",
    "reader = DictReader(open('podatki/ml-latest-small/ratings.csv', 'rt', encoding='utf-8'))\n",
    "for row in reader:\n",
    "    user = row[\"userId\"]\n",
    "    movie = row[\"movieId\"]\n",
    "    rating = row[\"rating\"]\n",
    "    timestamp = row[\"timestamp\"]"
   ]
  },
  {
   "cell_type": "markdown",
   "metadata": {
    "lang": "sl"
   },
   "source": [
    "Podatki v zadnji vrstici datoteke:"
   ]
  },
  {
   "cell_type": "code",
   "execution_count": 10,
   "metadata": {},
   "outputs": [
    {
     "data": {
      "text/plain": [
       "('671', '6565', '3.5', '1074784724')"
      ]
     },
     "execution_count": 10,
     "metadata": {},
     "output_type": "execute_result"
    }
   ],
   "source": [
    "user, movie, rating, timestamp"
   ]
  },
  {
   "cell_type": "markdown",
   "metadata": {
    "lang": "sl"
   },
   "source": [
    "Pretvorba časovnega formata (*Unix time*). Kode za oblikovanje so navedene v dokumentaciji modula [`datetime`](https://docs.python.org/3/library/datetime.html#strftime-and-strptime-behavior)."
   ]
  },
  {
   "cell_type": "code",
   "execution_count": 11,
   "metadata": {},
   "outputs": [
    {
     "data": {
      "text/plain": [
       "'2008-08-05 02:56'"
      ]
     },
     "execution_count": 11,
     "metadata": {},
     "output_type": "execute_result"
    }
   ],
   "source": [
    "from datetime import datetime\n",
    "\n",
    "t = 1217897793 # Unix-time\n",
    "ts = datetime.fromtimestamp(t).strftime('%Y-%m-%d %H:%M')\n",
    "ts"
   ]
  }
 ],
 "metadata": {
  "kernelspec": {
   "display_name": "Python 3",
   "language": "python",
   "name": "python3"
  },
  "language_info": {
   "codemirror_mode": {
    "name": "ipython",
    "version": 3
   },
   "file_extension": ".py",
   "mimetype": "text/x-python",
   "name": "python",
   "nbconvert_exporter": "python",
   "pygments_lexer": "ipython3",
   "version": "3.7.1"
  },
  "latex_envs": {
   "LaTeX_envs_menu_present": true,
   "autocomplete": true,
   "bibliofile": "biblio.bib",
   "cite_by": "apalike",
   "current_citInitial": 1,
   "eqLabelWithNumbers": true,
   "eqNumInitial": 1,
   "hotkeys": {
    "equation": "Ctrl-E",
    "itemize": "Ctrl-I"
   },
   "labels_anchors": false,
   "latex_user_defs": false,
   "report_style_numbering": false,
   "user_envs_cfg": false
  },
  "nbTranslate": {
   "displayLangs": [
    "*"
   ],
   "hotkey": "alt-t",
   "langInMainMenu": true,
   "sourceLang": "sl",
   "targetLang": "en",
   "useGoogleTranslate": true
  }
 },
 "nbformat": 4,
 "nbformat_minor": 2
}
